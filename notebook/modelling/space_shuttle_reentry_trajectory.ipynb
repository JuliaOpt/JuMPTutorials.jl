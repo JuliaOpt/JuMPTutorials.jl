{
  "cells": [
    {
      "cell_type": "markdown",
      "source": [
        "---\ntitle: Space Shuttle Reentry Trajectory\n---"
      ],
      "metadata": {}
    },
    {
      "cell_type": "markdown",
      "source": [
        "**Originally Contributed by**: Henrique Ferrolho"
      ],
      "metadata": {}
    },
    {
      "cell_type": "markdown",
      "source": [
        "This tutorial demonstrates how to compute a reentry trajectory for the\n[Space Shuttle](https://en.wikipedia.org/wiki/Space_Shuttle),\nby formulating and solving a nonlinear programming problem.\nThe problem was drawn from Chapter 6 of \n[\"Practical Methods for Optimal Control and Estimation Using Nonlinear Programming\"](https://epubs.siam.org/doi/book/10.1137/1.9780898718577),\nby John T. Betts."
      ],
      "metadata": {}
    },
    {
      "cell_type": "markdown",
      "source": [
        "The motion of the vehicle is defined by the following set of DAEs:\n\n$$\n\\begin{align}\n\\dot{h} & = v \\sin \\gamma , \\\\\n\\dot{\\phi} & = \\frac{v}{r} \\cos \\gamma \\sin \\psi / \\cos \\theta , \\\\\n\\dot{\\theta} & = \\frac{v}{r} \\cos \\gamma \\cos \\psi , \\\\\n\\dot{v} & = -\\frac{D}{m} - g \\sin \\gamma , \\\\\n\\dot{\\gamma} & = \\frac{L}{m v} \\cos(\\beta) + \\cos \\gamma \\left ( \\frac{v}{r} - \\frac{g}{v} \\right ) , \\\\\n\\dot{\\psi} & = \\frac{1}{m v \\cos \\gamma} L \\sin(\\beta) + \\frac{v}{r \\cos \\theta} \\cos \\gamma \\sin \\psi \\sin \\theta , \\\\\nq & \\le q_U , \\\\\n\\end{align}\n$$"
      ],
      "metadata": {}
    },
    {
      "cell_type": "markdown",
      "source": [
        "where the aerodynamic heating on the vehicle wing leading edge is $q = q_a q_r$\nand the dynamic variables are\n\n$$\n\\begin{align}\n     h & \\quad \\text{altitude (ft)},     \\qquad & & \\gamma \\quad \\text{flight path angle (rad)}, \\\\\n  \\phi & \\quad \\text{longitude (rad)},   \\qquad & & \\psi   \\quad \\text{azimuth (rad)},           \\\\\n\\theta & \\quad \\text{latitude (rad)},    \\qquad & & \\alpha \\quad \\text{angle of attack (rad)},   \\\\\n     v & \\quad \\text{velocity (ft/sec)}, \\qquad & & \\beta  \\quad \\text{bank angle (rad)}.\n\\end{align}\n$$"
      ],
      "metadata": {}
    },
    {
      "cell_type": "markdown",
      "source": [
        "The aerodynamic and atmospheric forces on the vehicle are\nspecified by the following quantities (English units):\n\n$$\n\\begin{align}\n           D & = \\frac{1}{2} c_D S \\rho v^2,                  \\qquad & a_0 & = -0.20704, \\\\\n           L & = \\frac{1}{2} c_L S \\rho v^2,                  \\qquad & a_1 & =  0.029244, \\\\\n           g & = \\mu / r^2,                                   \\qquad & \\mu & =  0.14076539 \\times 10^{17}, \\\\\n           r & = R_e + h,                                     \\qquad & b_0 & =  0.07854, \\\\\n        \\rho & = \\rho_0 \\exp[-h/h_r],                         \\qquad & b_1 & = -0.61592  \\times 10^{-2}, \\\\\n      \\rho_0 & = 0.002378,                                    \\qquad & b_2 & =  0.621408 \\times 10^{-3}, \\\\\n         h_r & = 23800,                                       \\qquad & q_r & =  17700 \\sqrt{\\rho} (0.0001 v)^{3.07}, \\\\\n         c_L & = a_0 + a_1 \\hat{\\alpha},                      \\qquad & q_a & =  c_0 + c_1 \\hat{\\alpha} + c_2 \\hat{\\alpha}^2 + c_3 \\hat{\\alpha}^3, \\\\\n         c_D & = b_0 + b_1 \\hat{\\alpha} + b_2 \\hat{\\alpha}^2, \\qquad & c_0 & =  1.0672181, \\\\\n\\hat{\\alpha} & = 180 \\alpha / \\pi,                            \\qquad & c_1 & = -0.19213774 \\times 10^{-1}, \\\\\n         R_e & = 20902900,                                    \\qquad & c_2 & =  0.21286289 \\times 10^{-3}, \\\\\n           S & = 2690,                                        \\qquad & c_3 & = -0.10117249 \\times 10^{-5}.\n\\end{align}\n$$"
      ],
      "metadata": {}
    },
    {
      "cell_type": "markdown",
      "source": [
        "The reentry trajectory begins at an altitude where the aerodynamic forces are quite small\nwith a weight of $w = 203000$ (lb) and mass $m = w / g_0$ (slug), where $g_0 = 32.174$ (ft/sec$^2$).\nThe initial conditions are as follows:\n\n$$\n\\begin{align}\n     h & = 260000 \\text{ ft},  \\qquad & v      & = 25600 \\text{ ft/sec}, \\\\\n  \\phi & = 0      \\text{ deg}, \\qquad & \\gamma & = -1    \\text{ deg},    \\\\\n\\theta & = 0      \\text{ deg}, \\qquad & \\psi   & = 90    \\text{ deg}.\n\\end{align}\n$$"
      ],
      "metadata": {}
    },
    {
      "cell_type": "markdown",
      "source": [
        "The final point on the reentry trajectory occurs at the unknown (free) time $t_F$,\nat the so-called terminal area energy management (TAEM) interface, which is defined by the conditions\n\n$$\nh = 80000 \\text{ ft}, \\qquad v = 2500 \\text{ ft/sec}, \\qquad \\gamma = -5 \\text{ deg}.\n$$"
      ],
      "metadata": {}
    },
    {
      "cell_type": "markdown",
      "source": [
        "As explained in the book, our goal is to maximize the final crossrange,\nwhich is equivalent to maximizing the final latitude of the vehicle,\ni.e., $J = \\theta(t_F)$."
      ],
      "metadata": {}
    },
    {
      "cell_type": "markdown",
      "source": [
        "![Max crossrange shuttle reentry](https://i.imgur.com/1tUN3wM.png)"
      ],
      "metadata": {}
    },
    {
      "cell_type": "markdown",
      "source": [
        "### Approach \nWe will use a discretized model of time, with a fixed number of discretized points, $n$.\nThe decision variables at each point are going to be the state of the vehicle and the controls commanded to it.\nIn addition, we will also make each time step size $\\Delta t$ a decision variable;\nthat way, we can either fix the time step size easily,\nor allow the solver to fine-tune the duration between each adjacent pair of points.\nFinally, in order to approximate the derivatives of the problem dynamics, we will use either rectangular\nor [trapezoidal](http://en.wikipedia.org/wiki/Trapezoidal_rule) integration."
      ],
      "metadata": {}
    },
    {
      "cell_type": "markdown",
      "source": [
        "### Disclaimer\nDo not try to actually land a Space Shuttle using this notebook! 😛\nThere's no mesh refinement going on, which can lead to unrealistic trajectories having position\nand velocity errors with orders of magnitude $10^4$ ft and $10^2$ ft/sec, respectively."
      ],
      "metadata": {}
    },
    {
      "outputs": [],
      "cell_type": "code",
      "source": [
        "using Interpolations, Plots\nusing JuMP, Ipopt  # , KNITRO"
      ],
      "metadata": {},
      "execution_count": null
    },
    {
      "outputs": [],
      "cell_type": "code",
      "source": [
        "# Global variables\nconst w  = 203000  # weight (lb)\nconst g₀ = 32.174  # acceleration (ft/sec^2)\nconst m  = w / g₀  # mass (slug)\n\n# Aerodynamic and atmospheric forces on the vehicle\nconst ρ₀ =  0.002378\nconst hᵣ =  23800.0\nconst Rₑ =  20902900.0\nconst μ  =  0.14076539e17\nconst S  =  2690.0\nconst a₀ = -0.20704\nconst a₁ =  0.029244\nconst b₀ =  0.07854\nconst b₁ = -0.61592e-2\nconst b₂ =  0.621408e-3\nconst c₀ =  1.0672181\nconst c₁ = -0.19213774e-1\nconst c₂ =  0.21286289e-3\nconst c₃ = -0.10117249e-5"
      ],
      "metadata": {},
      "execution_count": null
    },
    {
      "outputs": [],
      "cell_type": "code",
      "source": [
        "user_options_ipopt = (\n    \"mu_strategy\" => \"monotone\",\n    \"linear_solver\" => \"ma27\",\n)\n\n# user_options_knitro = (\n#     \"algorithm\" => KNITRO.KN_ALG_BAR_DIRECT,\n#     \"bar_murule\" => KNITRO.KN_BAR_MURULE_QUALITY,\n#     \"linsolver\" => KNITRO.KN_LINSOLVER_MA27,\n# )\n\n# Create JuMP model, using Ipopt as the solver\nmodel = Model(optimizer_with_attributes(Ipopt.Optimizer, user_options_ipopt...))\n# model = Model(optimizer_with_attributes(KNITRO.Optimizer, user_options_knitro...))\n\nn = 2009  # number of mesh points (knots)\n\n@variables(model, begin\n               0 ≤ scaled_h[1:n]                # altitude (ft) / 1e5\n                          ϕ[1:n]                # longitude (rad)\n    deg2rad(-89) ≤        θ[1:n] ≤ deg2rad(89)  # latitude (rad)\n            1e-4 ≤ scaled_v[1:n]                # velocity (ft/sec) / 1e4\n    deg2rad(-89) ≤        γ[1:n] ≤ deg2rad(89)  # flight path angle (rad)\n                          ψ[1:n]                # azimuth (rad)\n    deg2rad(-90) ≤        α[1:n] ≤ deg2rad(90)  # angle of attack (rad)\n    deg2rad(-89) ≤        β[1:n] ≤ deg2rad( 1)  # banck angle (rad)\n    #        0.5 ≤       Δt[1:n] ≤ 1.5          # time step (sec)\n                         Δt[1:n] == 1.0         # time step (sec)\nend)\n\n# Initial conditions\nhₛ = 2.6          # altitude (ft) / 1e5\nϕₛ = deg2rad(0)   # longitude (rad)\nθₛ = deg2rad(0)   # latitude (rad)\nvₛ = 2.56         # velocity (ft/sec) / 1e4\nγₛ = deg2rad(-1)  # flight path angle (rad)\nψₛ = deg2rad(90)  # azimuth (rad)\nαₛ = deg2rad(0)   # angle of attack (rad)\nβₛ = deg2rad(0)   # banck angle (rad)\ntₛ = 1.00         # time step (sec)\n\n# Final conditions, the so-called Terminal Area Energy Management (TAEM)\nhₜ = 0.8          # altitude (ft) / 1e5\nvₜ = 0.25         # velocity (ft/sec) / 1e4\nγₜ = deg2rad(-5)  # flight path angle (rad)\n\n# Fix initial conditions\nfix(scaled_h[1], hₛ; force=true)\nfix(       ϕ[1], ϕₛ; force=true)\nfix(       θ[1], θₛ; force=true)\nfix(scaled_v[1], vₛ; force=true)\nfix(       γ[1], γₛ; force=true)\nfix(       ψ[1], ψₛ; force=true)\n\n# Fix final conditions\nfix(scaled_h[n], hₜ; force=true)\nfix(scaled_v[n], vₜ; force=true)\nfix(       γ[n], γₜ; force=true)\n\n# Initial guess: linear interpolation between boundary conditions\nxₛ = [hₛ, ϕₛ, θₛ, vₛ, γₛ, ψₛ, αₛ, βₛ, tₛ]\nxₜ = [hₜ, ϕₛ, θₛ, vₜ, γₜ, ψₛ, αₛ, βₛ, tₛ]\ninterp_linear = LinearInterpolation([1, n], [xₛ, xₜ])\ninitial_guess = mapreduce(transpose, vcat, interp_linear.(1:n))\nset_start_value.(all_variables(model), vec(initial_guess))\n\n# Functions to restore `h` and `v` to their true scale\n@NLexpression(model, h[j = 1:n], scaled_h[j] * 1e5)\n@NLexpression(model, v[j = 1:n], scaled_v[j] * 1e4)\n\n# Helper functions\n# @NLexpression(model, c_L[j = 1:n], a₀ + a₁ * rad2deg(α[j]))\n# @NLexpression(model, c_D[j = 1:n], b₀ + b₁ * rad2deg(α[j]) + b₂ * rad2deg(α[j])^2)\n@NLexpression(model, c_L[j = 1:n], a₀ + a₁ * (180 * α[j] / π))\n@NLexpression(model, c_D[j = 1:n], b₀ + b₁ * (180 * α[j] / π) + b₂ * (180 * α[j] / π)^2)\n@NLexpression(model,   ρ[j = 1:n], ρ₀ * exp(-h[j] / hᵣ))\n@NLexpression(model,   D[j = 1:n], 0.5 * c_D[j] * S * ρ[j] * v[j]^2)\n@NLexpression(model,   L[j = 1:n], 0.5 * c_L[j] * S * ρ[j] * v[j]^2)\n@NLexpression(model,   r[j = 1:n], Rₑ + h[j])\n@NLexpression(model,   g[j = 1:n], μ / r[j]^2)\n\n# Motion of the vehicle as a differential-algebraic system of equations (DAEs)\n@NLexpression(model, δh[j = 1:n], v[j] * sin(γ[j]))\n@NLexpression(model, δϕ[j = 1:n], (v[j] / r[j]) * cos(γ[j]) * sin(ψ[j]) / cos(θ[j]))\n@NLexpression(model, δθ[j = 1:n], (v[j] / r[j]) * cos(γ[j]) * cos(ψ[j]))\n@NLexpression(model, δv[j = 1:n], -(D[j] / m) - g[j] * sin(γ[j]))\n@NLexpression(model, δγ[j = 1:n], (L[j] / (m * v[j])) * cos(β[j]) + cos(γ[j]) * ((v[j] / r[j]) - (g[j] / v[j])))\n@NLexpression(model, δψ[j = 1:n], (1 / (m * v[j] * cos(γ[j]))) * L[j] * sin(β[j]) + (v[j] / (r[j] * cos(θ[j]))) * cos(γ[j]) * sin(ψ[j]) * sin(θ[j]))\n\n# System dynamics\nfor j in 2:n\n    i = j - 1  # index of previous knot\n\n    # Rectangular integration\n    @NLconstraint(model, h[j] == h[i] + Δt[i] * δh[i])\n    @NLconstraint(model, ϕ[j] == ϕ[i] + Δt[i] * δϕ[i])\n    @NLconstraint(model, θ[j] == θ[i] + Δt[i] * δθ[i])\n    @NLconstraint(model, v[j] == v[i] + Δt[i] * δv[i])\n    @NLconstraint(model, γ[j] == γ[i] + Δt[i] * δγ[i])\n    @NLconstraint(model, ψ[j] == ψ[i] + Δt[i] * δψ[i])\n\n    # # Trapezoidal integration\n    # @NLconstraint(model, h[j] == h[i] + 0.5 * Δt[i] * (δh[j] + δh[i]))\n    # @NLconstraint(model, ϕ[j] == ϕ[i] + 0.5 * Δt[i] * (δϕ[j] + δϕ[i]))\n    # @NLconstraint(model, θ[j] == θ[i] + 0.5 * Δt[i] * (δθ[j] + δθ[i]))\n    # @NLconstraint(model, v[j] == v[i] + 0.5 * Δt[i] * (δv[j] + δv[i]))\n    # @NLconstraint(model, γ[j] == γ[i] + 0.5 * Δt[i] * (δγ[j] + δγ[i]))\n    # @NLconstraint(model, ψ[j] == ψ[i] + 0.5 * Δt[i] * (δψ[j] + δψ[i]))\nend\n\n# Objective: Maximize crossrange\n@objective(model, Max, θ[n])\n\n# Solve for the control and state\nstatus = optimize!(model)\n\n# Show final crossrange of the solution\nprintln(\"Final latitude θ = \", round(objective_value(model) |> rad2deg, digits = 2), \"°\")"
      ],
      "metadata": {},
      "execution_count": null
    },
    {
      "outputs": [],
      "cell_type": "code",
      "source": [
        "ts = cumsum([0; value.(Δt)])[1:end-1]\n\nplt_altitude = plot(ts, value.(scaled_h), legend = nothing, title = \"Altitude (100,000 ft)\")\nplt_longitude = plot(ts, rad2deg.(value.(ϕ)), legend = nothing, title = \"Longitude (deg)\")\nplt_latitude = plot(ts, rad2deg.(value.(θ)), legend = nothing, title = \"Latitude (deg)\")\nplt_velocity = plot(ts, value.(scaled_v), legend = nothing, title = \"Velocity (1000 ft/sec)\")\nplt_flight_path = plot(ts, rad2deg.(value.(γ)), legend = nothing, title = \"Flight Path (deg)\")\nplt_azimuth = plot(ts, rad2deg.(value.(ψ)), legend = nothing, title = \"Azimuth (deg)\")\n\nplt = plot(plt_altitude,  plt_velocity, plt_longitude, plt_flight_path, plt_latitude,\n           plt_azimuth, layout=grid(3, 2), linewidth=2, size=(700, 700))"
      ],
      "metadata": {},
      "execution_count": null
    },
    {
      "outputs": [],
      "cell_type": "code",
      "source": [
        "function q(h, v, a)\n    ρ(h) = ρ₀ * exp(-h / hᵣ)\n    qᵣ(h, v) = 17700 * √ρ(h) * (0.0001 * v)^3.07\n    qₐ(a) = c₀ + c₁ * rad2deg(a) + c₂ * rad2deg(a)^2 + c₃ * rad2deg(a)^3    \n    # Aerodynamic heating on the vehicle wing leading edge\n    qₐ(a) * qᵣ(h, v)\nend\n\nplt_attack_angle = plot(ts[1:end-1], rad2deg.(value.(α)[1:end-1]), legend=nothing, title=\"Angle of Attack (deg)\")\nplt_bank_angle = plot(ts[1:end-1], rad2deg.(value.(β)[1:end-1]), legend=nothing, title=\"Bank Angle (deg)\")\nplt_heating = plot(ts, q.(value.(scaled_h)*1e5, value.(scaled_v)*1e4, value.(α)), legend=nothing, title=\"Heating (BTU/ft/ft/sec)\") \n\nplt = plot(plt_attack_angle, plt_bank_angle, plt_heating, layout=grid(3, 1), linewidth=2, size=(700, 700))"
      ],
      "metadata": {},
      "execution_count": null
    },
    {
      "outputs": [],
      "cell_type": "code",
      "source": [
        "plt = plot(rad2deg.(value.(ϕ)), rad2deg.(value.(θ)), value.(scaled_h),\n           linewidth=2, legend=nothing, title=\"Space Shuttle Reentry Trajectory\",\n           xlabel=\"Longitude (deg)\", ylabel=\"Latitude (deg)\", zlabel=\"Altitude (100,000 ft)\")"
      ],
      "metadata": {},
      "execution_count": null
    }
  ],
  "nbformat_minor": 2,
  "metadata": {
    "language_info": {
      "file_extension": ".jl",
      "mimetype": "application/julia",
      "name": "julia",
      "version": "1.5.2"
    },
    "kernelspec": {
      "name": "julia-1.5",
      "display_name": "Julia 1.5.2",
      "language": "julia"
    }
  },
  "nbformat": 4
}
