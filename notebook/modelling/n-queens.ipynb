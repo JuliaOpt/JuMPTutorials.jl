{
 "cells": [
  {
   "cell_type": "markdown",
   "metadata": {},
   "source": [
    "# N-Queens"
   ]
  },
  {
   "cell_type": "markdown",
   "metadata": {},
   "source": [
    "**Originally Contributed by**: Matthew Helm ([with help from @mtanneau on Julia Discourse](https://discourse.julialang.org/t/which-jump-jl-solver-for-this-problem/43350/17?u=mthelm85))"
   ]
  },
  {
   "cell_type": "markdown",
   "metadata": {},
   "source": [
    "The N-Queens problem involves placing N queens on an N x N chessboard such that none of the queens attacks another. In chess, a \n",
    "queen can move vertically, horizontally, and diagonally so there cannot be more than one queen on any given row, column, or \n",
    "diagonal."
   ]
  },
  {
   "cell_type": "markdown",
   "metadata": {},
   "source": [
    "<img src=\"img/n_queens4.png\" style=\"width: auto; height: auto\" alt=\"4 Queens\">"
   ]
  },
  {
   "cell_type": "markdown",
   "metadata": {},
   "source": [
    "*Note that none of the queens above are able to attack any other as a result of their careful placement.*"
   ]
  },
  {
   "cell_type": "code",
   "execution_count": 1,
   "metadata": {},
   "outputs": [
    {
     "name": "stderr",
     "output_type": "stream",
     "text": [
      "┌ Info: Precompiling GLPK [60bf3e95-4087-53dc-ae20-288a0d20c6a6]\n",
      "└ @ Base loading.jl:1192\n",
      "ERROR: LoadError: GLPK not properly installed. Please run Pkg.build(\"GLPK\")\n",
      "Stacktrace:\n",
      " [1] error(::String) at ./error.jl:33\n",
      " [2] top-level scope at /home/mbesancon/.julia/packages/GLPK/oTTtu/src/GLPK.jl:197\n",
      " [3] include at ./boot.jl:317 [inlined]\n",
      " [4] include_relative(::Module, ::String) at ./loading.jl:1044\n",
      " [5] include(::Module, ::String) at ./sysimg.jl:29\n",
      " [6] top-level scope at none:2\n",
      " [7] eval at ./boot.jl:319 [inlined]\n",
      " [8] eval(::Expr) at ./client.jl:393\n",
      " [9] top-level scope at ./none:3\n",
      "in expression starting at /home/mbesancon/.julia/packages/GLPK/oTTtu/src/GLPK.jl:193\n"
     ]
    },
    {
     "ename": "ErrorException",
     "evalue": "Failed to precompile GLPK [60bf3e95-4087-53dc-ae20-288a0d20c6a6] to /home/mbesancon/.julia/compiled/v1.0/GLPK/r6CoY.ji.",
     "output_type": "error",
     "traceback": [
      "Failed to precompile GLPK [60bf3e95-4087-53dc-ae20-288a0d20c6a6] to /home/mbesancon/.julia/compiled/v1.0/GLPK/r6CoY.ji.",
      "",
      "Stacktrace:",
      " [1] error(::String) at ./error.jl:33",
      " [2] compilecache(::Base.PkgId, ::String) at ./loading.jl:1203",
      " [3] _require(::Base.PkgId) at ./loading.jl:960",
      " [4] require(::Base.PkgId) at ./loading.jl:858",
      " [5] require(::Module, ::Symbol) at ./loading.jl:853",
      " [6] top-level scope at In[1]:1"
     ]
    }
   ],
   "source": [
    "using GLPK\n",
    "using JuMP\n",
    "using LinearAlgebra\n",
    "\n",
    "# N-Queens\n",
    "N = 8\n",
    "\n",
    "model = Model(GLPK.Optimizer);"
   ]
  },
  {
   "cell_type": "markdown",
   "metadata": {},
   "source": [
    "Next, let's create an N x N chessboard of binary values. 0 will represent an empty space on the board and 1 will represent a \n",
    "space occupied by one of our queens:"
   ]
  },
  {
   "cell_type": "code",
   "execution_count": 2,
   "metadata": {},
   "outputs": [
    {
     "ename": "LoadError",
     "evalue": "UndefVarError: @variable not defined",
     "output_type": "error",
     "traceback": [
      "UndefVarError: @variable not defined",
      ""
     ]
    }
   ],
   "source": [
    "@variable(model, x[i=1:N, j=1:N], Bin)"
   ]
  },
  {
   "cell_type": "markdown",
   "metadata": {},
   "source": [
    "Now we can add our constraints:"
   ]
  },
  {
   "cell_type": "code",
   "execution_count": 3,
   "metadata": {},
   "outputs": [
    {
     "ename": "LoadError",
     "evalue": "UndefVarError: @constraint not defined",
     "output_type": "error",
     "traceback": [
      "UndefVarError: @constraint not defined",
      ""
     ]
    }
   ],
   "source": [
    "# There must be exactly one queen in a given row/column\n",
    "for i=1:N\n",
    "    @constraint(model, sum(x[i, :]) == 1)\n",
    "    @constraint(model, sum(x[:, i]) == 1)\n",
    "end\n",
    "\n",
    "# There can only be one queen on any given diagonal\n",
    "for i in -(N-1):(N-1)\n",
    "    @constraint(model, sum(diag(x,i)) <= 1)\n",
    "    @constraint(model, sum(diag(reverse(x,dims=1), i)) <=1)\n",
    "end"
   ]
  },
  {
   "cell_type": "markdown",
   "metadata": {},
   "source": [
    "That's it! We are ready to put our model to work and see if it is able to find a feasible solution:"
   ]
  },
  {
   "cell_type": "code",
   "execution_count": 4,
   "metadata": {},
   "outputs": [
    {
     "ename": "UndefVarError",
     "evalue": "UndefVarError: optimize! not defined",
     "output_type": "error",
     "traceback": [
      "UndefVarError: optimize! not defined",
      "",
      "Stacktrace:",
      " [1] top-level scope at In[4]:1"
     ]
    }
   ],
   "source": [
    "optimize!(model)"
   ]
  },
  {
   "cell_type": "markdown",
   "metadata": {},
   "source": [
    "We can now review the solution that our model found:"
   ]
  },
  {
   "cell_type": "code",
   "execution_count": 5,
   "metadata": {},
   "outputs": [
    {
     "ename": "UndefVarError",
     "evalue": "UndefVarError: value not defined",
     "output_type": "error",
     "traceback": [
      "UndefVarError: value not defined",
      "",
      "Stacktrace:",
      " [1] top-level scope at In[5]:1"
     ]
    }
   ],
   "source": [
    "solution = convert.(Int,value.(x))"
   ]
  },
  {
   "cell_type": "markdown",
   "metadata": {},
   "source": [
    "<img src=\"img/n_queens.png\" style=\"width: auto; height: auto\" alt=\"4 Queens\">"
   ]
  },
  {
   "cell_type": "code",
   "execution_count": null,
   "metadata": {},
   "outputs": [],
   "source": []
  }
 ],
 "metadata": {
  "kernelspec": {
   "display_name": "Julia 1.0.5",
   "language": "julia",
   "name": "julia-1.0"
  },
  "language_info": {
   "file_extension": ".jl",
   "mimetype": "application/julia",
   "name": "julia",
   "version": "1.0.5"
  }
 },
 "nbformat": 4,
 "nbformat_minor": 2
}
